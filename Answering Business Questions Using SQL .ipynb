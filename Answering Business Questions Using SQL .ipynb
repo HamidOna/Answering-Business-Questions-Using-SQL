{
 "cells": [
  {
   "cell_type": "markdown",
   "metadata": {},
   "source": [
    "# Answering Business Questions Using SQL\n",
    "The Chinook record store has just signed a deal with a new record label, and we've been tasked with selecting the first three albums that will be added to the store, from a list of four. All four albums are by artists that don't have any tracks in the store right now - we have the artist names, and the genre of music they produce:\n",
    "\n",
    "|      Artist Name     \t|  Genre  \t|\n",
    "|:--------------------:\t|:-------:\t|\n",
    "| Regal                \t| Hip-Hop \t|\n",
    "| Red Tone             \t| Punk    \t|\n",
    "| Meteor and the Girls \t| Pop     \t|\n",
    "| Slim Jim Bites       \t| Blues   \t|\n",
    "\n",
    "### Goal\n",
    "The record label specializes in artists from the USA, and they have given Chinook some money to advertise the new albums in the USA, so we're interested in finding out which genres sell the best in the USA."
   ]
  },
  {
   "cell_type": "code",
   "execution_count": 1,
   "metadata": {},
   "outputs": [],
   "source": [
    "%%capture\n",
    "%load_ext sql\n",
    "%sql sqlite:///chinook.db"
   ]
  },
  {
   "cell_type": "code",
   "execution_count": 2,
   "metadata": {},
   "outputs": [
    {
     "name": "stdout",
     "output_type": "stream",
     "text": [
      " * sqlite:///chinook.db\n",
      "Done.\n"
     ]
    },
    {
     "data": {
      "text/html": [
       "<table>\n",
       "    <thead>\n",
       "        <tr>\n",
       "            <th>name</th>\n",
       "            <th>type</th>\n",
       "        </tr>\n",
       "    </thead>\n",
       "    <tbody>\n",
       "        <tr>\n",
       "            <td>album</td>\n",
       "            <td>table</td>\n",
       "        </tr>\n",
       "        <tr>\n",
       "            <td>artist</td>\n",
       "            <td>table</td>\n",
       "        </tr>\n",
       "        <tr>\n",
       "            <td>customer</td>\n",
       "            <td>table</td>\n",
       "        </tr>\n",
       "        <tr>\n",
       "            <td>employee</td>\n",
       "            <td>table</td>\n",
       "        </tr>\n",
       "        <tr>\n",
       "            <td>genre</td>\n",
       "            <td>table</td>\n",
       "        </tr>\n",
       "        <tr>\n",
       "            <td>invoice</td>\n",
       "            <td>table</td>\n",
       "        </tr>\n",
       "        <tr>\n",
       "            <td>invoice_line</td>\n",
       "            <td>table</td>\n",
       "        </tr>\n",
       "        <tr>\n",
       "            <td>media_type</td>\n",
       "            <td>table</td>\n",
       "        </tr>\n",
       "        <tr>\n",
       "            <td>playlist</td>\n",
       "            <td>table</td>\n",
       "        </tr>\n",
       "        <tr>\n",
       "            <td>playlist_track</td>\n",
       "            <td>table</td>\n",
       "        </tr>\n",
       "        <tr>\n",
       "            <td>track</td>\n",
       "            <td>table</td>\n",
       "        </tr>\n",
       "        <tr>\n",
       "            <td>customer_region</td>\n",
       "            <td>view</td>\n",
       "        </tr>\n",
       "    </tbody>\n",
       "</table>"
      ],
      "text/plain": [
       "[('album', 'table'),\n",
       " ('artist', 'table'),\n",
       " ('customer', 'table'),\n",
       " ('employee', 'table'),\n",
       " ('genre', 'table'),\n",
       " ('invoice', 'table'),\n",
       " ('invoice_line', 'table'),\n",
       " ('media_type', 'table'),\n",
       " ('playlist', 'table'),\n",
       " ('playlist_track', 'table'),\n",
       " ('track', 'table'),\n",
       " ('customer_region', 'view')]"
      ]
     },
     "execution_count": 2,
     "metadata": {},
     "output_type": "execute_result"
    }
   ],
   "source": [
    "%%sql\n",
    "SELECT\n",
    "    name,\n",
    "    type\n",
    "FROM sqlite_master\n",
    "WHERE type IN (\"table\",\"view\");"
   ]
  },
  {
   "cell_type": "markdown",
   "metadata": {},
   "source": [
    "![schema](https://s3.amazonaws.com/dq-content/191/chinook-schema.svg  \"Schema diagram\")\n",
    "\n",
    "Above is the schema diagram of the database we are working with."
   ]
  },
  {
   "cell_type": "code",
   "execution_count": 3,
   "metadata": {},
   "outputs": [
    {
     "name": "stdout",
     "output_type": "stream",
     "text": [
      " * sqlite:///chinook.db\n",
      "Done.\n"
     ]
    },
    {
     "data": {
      "text/html": [
       "<table>\n",
       "    <thead>\n",
       "        <tr>\n",
       "            <th>invoice_line_id</th>\n",
       "            <th>invoice_id</th>\n",
       "            <th>track_id</th>\n",
       "            <th>unit_price</th>\n",
       "            <th>quantity</th>\n",
       "        </tr>\n",
       "    </thead>\n",
       "    <tbody>\n",
       "        <tr>\n",
       "            <td>1</td>\n",
       "            <td>1</td>\n",
       "            <td>1158</td>\n",
       "            <td>0.99</td>\n",
       "            <td>1</td>\n",
       "        </tr>\n",
       "        <tr>\n",
       "            <td>2</td>\n",
       "            <td>1</td>\n",
       "            <td>1159</td>\n",
       "            <td>0.99</td>\n",
       "            <td>1</td>\n",
       "        </tr>\n",
       "        <tr>\n",
       "            <td>3</td>\n",
       "            <td>1</td>\n",
       "            <td>1160</td>\n",
       "            <td>0.99</td>\n",
       "            <td>1</td>\n",
       "        </tr>\n",
       "        <tr>\n",
       "            <td>4</td>\n",
       "            <td>1</td>\n",
       "            <td>1161</td>\n",
       "            <td>0.99</td>\n",
       "            <td>1</td>\n",
       "        </tr>\n",
       "        <tr>\n",
       "            <td>5</td>\n",
       "            <td>1</td>\n",
       "            <td>1162</td>\n",
       "            <td>0.99</td>\n",
       "            <td>1</td>\n",
       "        </tr>\n",
       "    </tbody>\n",
       "</table>"
      ],
      "text/plain": [
       "[(1, 1, 1158, 0.99, 1),\n",
       " (2, 1, 1159, 0.99, 1),\n",
       " (3, 1, 1160, 0.99, 1),\n",
       " (4, 1, 1161, 0.99, 1),\n",
       " (5, 1, 1162, 0.99, 1)]"
      ]
     },
     "execution_count": 3,
     "metadata": {},
     "output_type": "execute_result"
    }
   ],
   "source": [
    "%%sql\n",
    "SELECT *\n",
    "FROM invoice_line \n",
    "LIMIT 5;"
   ]
  },
  {
   "cell_type": "code",
   "execution_count": 4,
   "metadata": {
    "scrolled": true
   },
   "outputs": [
    {
     "name": "stdout",
     "output_type": "stream",
     "text": [
      " * sqlite:///chinook.db\n",
      "Done.\n"
     ]
    },
    {
     "data": {
      "text/html": [
       "<table>\n",
       "    <thead>\n",
       "        <tr>\n",
       "            <th>genre</th>\n",
       "            <th>tracks_sold</th>\n",
       "            <th>percentage_sold</th>\n",
       "        </tr>\n",
       "    </thead>\n",
       "    <tbody>\n",
       "        <tr>\n",
       "            <td>Rock</td>\n",
       "            <td>561</td>\n",
       "            <td>0.5337773549000951</td>\n",
       "        </tr>\n",
       "        <tr>\n",
       "            <td>Alternative &amp; Punk</td>\n",
       "            <td>130</td>\n",
       "            <td>0.12369172216936251</td>\n",
       "        </tr>\n",
       "        <tr>\n",
       "            <td>Metal</td>\n",
       "            <td>124</td>\n",
       "            <td>0.11798287345385347</td>\n",
       "        </tr>\n",
       "        <tr>\n",
       "            <td>R&amp;B/Soul</td>\n",
       "            <td>53</td>\n",
       "            <td>0.05042816365366318</td>\n",
       "        </tr>\n",
       "        <tr>\n",
       "            <td>Blues</td>\n",
       "            <td>36</td>\n",
       "            <td>0.03425309229305423</td>\n",
       "        </tr>\n",
       "        <tr>\n",
       "            <td>Alternative</td>\n",
       "            <td>35</td>\n",
       "            <td>0.03330161750713606</td>\n",
       "        </tr>\n",
       "        <tr>\n",
       "            <td>Pop</td>\n",
       "            <td>22</td>\n",
       "            <td>0.02093244529019981</td>\n",
       "        </tr>\n",
       "        <tr>\n",
       "            <td>Latin</td>\n",
       "            <td>22</td>\n",
       "            <td>0.02093244529019981</td>\n",
       "        </tr>\n",
       "        <tr>\n",
       "            <td>Hip Hop/Rap</td>\n",
       "            <td>20</td>\n",
       "            <td>0.019029495718363463</td>\n",
       "        </tr>\n",
       "        <tr>\n",
       "            <td>Jazz</td>\n",
       "            <td>14</td>\n",
       "            <td>0.013320647002854425</td>\n",
       "        </tr>\n",
       "    </tbody>\n",
       "</table>"
      ],
      "text/plain": [
       "[('Rock', 561, 0.5337773549000951),\n",
       " ('Alternative & Punk', 130, 0.12369172216936251),\n",
       " ('Metal', 124, 0.11798287345385347),\n",
       " ('R&B/Soul', 53, 0.05042816365366318),\n",
       " ('Blues', 36, 0.03425309229305423),\n",
       " ('Alternative', 35, 0.03330161750713606),\n",
       " ('Pop', 22, 0.02093244529019981),\n",
       " ('Latin', 22, 0.02093244529019981),\n",
       " ('Hip Hop/Rap', 20, 0.019029495718363463),\n",
       " ('Jazz', 14, 0.013320647002854425)]"
      ]
     },
     "execution_count": 4,
     "metadata": {},
     "output_type": "execute_result"
    }
   ],
   "source": [
    "%%sql\n",
    "\n",
    "WITH usa_tracks_sold AS\n",
    "   (\n",
    "    SELECT il.* FROM invoice_line il\n",
    "    INNER JOIN invoice i on il.invoice_id = i.invoice_id\n",
    "    INNER JOIN customer c on i.customer_id = c.customer_id\n",
    "    WHERE c.country = \"USA\"\n",
    "   )\n",
    "\n",
    "SELECT\n",
    "    g.name genre,\n",
    "    count(uts.invoice_line_id) tracks_sold,\n",
    "    cast(count(uts.invoice_line_id) AS FLOAT) / (\n",
    "        SELECT COUNT(*) from usa_tracks_sold\n",
    "    ) percentage_sold\n",
    "    \n",
    "FROM usa_tracks_sold uts\n",
    "INNER JOIN track t on t.track_id = uts.track_id\n",
    "INNER JOIN genre g on g.genre_id = t.genre_id\n",
    "\n",
    "GROUP BY 1\n",
    "ORDER BY 2 DESC\n",
    "\n",
    "LIMIT 10;"
   ]
  },
  {
   "cell_type": "markdown",
   "metadata": {},
   "source": [
    "`Rock` is the the most popularly music genre in the US. But we have to check among the genres of the selected artists. `alternatives and punk` is the most popular among the genres of the artist."
   ]
  },
  {
   "cell_type": "markdown",
   "metadata": {},
   "source": [
    "## Best Performing Sales Support Agent\n",
    "Each customer for the Chinook store gets assigned to a sales support agent within the company when they first make a purchase. We have been asked to analyze the purchases of customers belonging to each employee to see if any sales support agent is performing either better or worse than the others."
   ]
  },
  {
   "cell_type": "code",
   "execution_count": 5,
   "metadata": {
    "scrolled": true
   },
   "outputs": [
    {
     "name": "stdout",
     "output_type": "stream",
     "text": [
      " * sqlite:///chinook.db\n",
      "Done.\n"
     ]
    },
    {
     "data": {
      "text/html": [
       "<table>\n",
       "    <thead>\n",
       "        <tr>\n",
       "            <th>employee_id</th>\n",
       "            <th>employee</th>\n",
       "            <th>title</th>\n",
       "            <th>total_amount_sales_dollars</th>\n",
       "            <th>hire_date</th>\n",
       "        </tr>\n",
       "    </thead>\n",
       "    <tbody>\n",
       "        <tr>\n",
       "            <td>3</td>\n",
       "            <td>Jane Peacock</td>\n",
       "            <td>Sales Support Agent</td>\n",
       "            <td>1731.51</td>\n",
       "            <td>2017-04-01 00:00:00</td>\n",
       "        </tr>\n",
       "        <tr>\n",
       "            <td>4</td>\n",
       "            <td>Margaret Park</td>\n",
       "            <td>Sales Support Agent</td>\n",
       "            <td>1584.0</td>\n",
       "            <td>2017-05-03 00:00:00</td>\n",
       "        </tr>\n",
       "        <tr>\n",
       "            <td>5</td>\n",
       "            <td>Steve Johnson</td>\n",
       "            <td>Sales Support Agent</td>\n",
       "            <td>1393.92</td>\n",
       "            <td>2017-10-17 00:00:00</td>\n",
       "        </tr>\n",
       "    </tbody>\n",
       "</table>"
      ],
      "text/plain": [
       "[(3, 'Jane Peacock', 'Sales Support Agent', 1731.51, '2017-04-01 00:00:00'),\n",
       " (4, 'Margaret Park', 'Sales Support Agent', 1584.0, '2017-05-03 00:00:00'),\n",
       " (5, 'Steve Johnson', 'Sales Support Agent', 1393.92, '2017-10-17 00:00:00')]"
      ]
     },
     "execution_count": 5,
     "metadata": {},
     "output_type": "execute_result"
    }
   ],
   "source": [
    "%%sql\n",
    "\n",
    "WITH employee_customer AS\n",
    "   (\n",
    "    SELECT e.*, i.* FROM employee e\n",
    "    INNER JOIN customer c on c.support_rep_id = e.employee_id\n",
    "    INNER JOIN invoice i on i.customer_id = c.customer_id\n",
    "   )\n",
    "    \n",
    "SELECT\n",
    "    employee_id,\n",
    "    ec.first_name || \" \" || ec.last_name employee,\n",
    "    title,\n",
    "    ROUND(TOTAL(total), 2) total_amount_sales_dollars, \n",
    "    hire_date\n",
    "    FROM employee_customer ec\n",
    "GROUP BY 1\n",
    "ORDER BY 4 DESC;"
   ]
  },
  {
   "cell_type": "markdown",
   "metadata": {},
   "source": [
    "`Jane Peacock` seems to be the best performing sale's support agent based on total sales amount made. However, The other two sales support agent were hired at a later date than Jane."
   ]
  },
  {
   "cell_type": "markdown",
   "metadata": {},
   "source": [
    "## Analyzing Sales by Country\n",
    "In particular, chinook wants to take a look at the data for each country, on the following:\n",
    "\n",
    "- total number of customers\n",
    "- total value of sales\n",
    "- average value of sales per customer\n",
    "- average order value"
   ]
  },
  {
   "cell_type": "code",
   "execution_count": 35,
   "metadata": {},
   "outputs": [
    {
     "name": "stdout",
     "output_type": "stream",
     "text": [
      " * sqlite:///chinook.db\n",
      "Done.\n"
     ]
    },
    {
     "data": {
      "text/html": [
       "<table>\n",
       "    <thead>\n",
       "        <tr>\n",
       "            <th>country</th>\n",
       "            <th>no_of_orders</th>\n",
       "            <th>no_of_customers</th>\n",
       "            <th>total_sales</th>\n",
       "            <th>ave_orders</th>\n",
       "            <th>ROUND(ave_sales, 2)</th>\n",
       "        </tr>\n",
       "    </thead>\n",
       "    <tbody>\n",
       "        <tr>\n",
       "            <td>USA</td>\n",
       "            <td>1051</td>\n",
       "            <td>1</td>\n",
       "            <td>10405.89</td>\n",
       "            <td>80</td>\n",
       "            <td>800.45</td>\n",
       "        </tr>\n",
       "        <tr>\n",
       "            <td>Canada</td>\n",
       "            <td>541</td>\n",
       "            <td>1</td>\n",
       "            <td>5489.55</td>\n",
       "            <td>67</td>\n",
       "            <td>686.19</td>\n",
       "        </tr>\n",
       "        <tr>\n",
       "            <td>Brazil</td>\n",
       "            <td>432</td>\n",
       "            <td>1</td>\n",
       "            <td>4059.0</td>\n",
       "            <td>86</td>\n",
       "            <td>811.8</td>\n",
       "        </tr>\n",
       "        <tr>\n",
       "            <td>France</td>\n",
       "            <td>393</td>\n",
       "            <td>1</td>\n",
       "            <td>3972.87</td>\n",
       "            <td>78</td>\n",
       "            <td>794.57</td>\n",
       "        </tr>\n",
       "        <tr>\n",
       "            <td>Germany</td>\n",
       "            <td>338</td>\n",
       "            <td>1</td>\n",
       "            <td>3441.24</td>\n",
       "            <td>84</td>\n",
       "            <td>860.31</td>\n",
       "        </tr>\n",
       "        <tr>\n",
       "            <td>Czech Republic</td>\n",
       "            <td>276</td>\n",
       "            <td>1</td>\n",
       "            <td>3183.84</td>\n",
       "            <td>138</td>\n",
       "            <td>1591.92</td>\n",
       "        </tr>\n",
       "        <tr>\n",
       "            <td>United Kingdom</td>\n",
       "            <td>248</td>\n",
       "            <td>1</td>\n",
       "            <td>2498.76</td>\n",
       "            <td>82</td>\n",
       "            <td>832.92</td>\n",
       "        </tr>\n",
       "        <tr>\n",
       "            <td>India</td>\n",
       "            <td>185</td>\n",
       "            <td>1</td>\n",
       "            <td>1887.93</td>\n",
       "            <td>92</td>\n",
       "            <td>943.97</td>\n",
       "        </tr>\n",
       "        <tr>\n",
       "            <td>Portugal</td>\n",
       "            <td>187</td>\n",
       "            <td>1</td>\n",
       "            <td>1755.27</td>\n",
       "            <td>93</td>\n",
       "            <td>877.64</td>\n",
       "        </tr>\n",
       "        <tr>\n",
       "            <td>others</td>\n",
       "            <td>116</td>\n",
       "            <td>15</td>\n",
       "            <td>1433.52</td>\n",
       "            <td>116</td>\n",
       "            <td>1433.52</td>\n",
       "        </tr>\n",
       "    </tbody>\n",
       "</table>"
      ],
      "text/plain": [
       "[('USA', 1051, 1, 10405.89, 80, 800.45),\n",
       " ('Canada', 541, 1, 5489.55, 67, 686.19),\n",
       " ('Brazil', 432, 1, 4059.0, 86, 811.8),\n",
       " ('France', 393, 1, 3972.87, 78, 794.57),\n",
       " ('Germany', 338, 1, 3441.24, 84, 860.31),\n",
       " ('Czech Republic', 276, 1, 3183.84, 138, 1591.92),\n",
       " ('United Kingdom', 248, 1, 2498.76, 82, 832.92),\n",
       " ('India', 185, 1, 1887.93, 92, 943.97),\n",
       " ('Portugal', 187, 1, 1755.27, 93, 877.64),\n",
       " ('others', 116, 15, 1433.52, 116, 1433.52)]"
      ]
     },
     "execution_count": 35,
     "metadata": {},
     "output_type": "execute_result"
    }
   ],
   "source": [
    "%%sql\n",
    "WITH customer_by_region AS\n",
    "   (\n",
    "    SELECT c.*, i.total, il.quantity  FROM customer c\n",
    "    INNER JOIN invoice i on i.customer_id = c.customer_id\n",
    "    INNER JOIN invoice_line il on i.invoice_id = il.invoice_id\n",
    "    \n",
    "   )\n",
    "    \n",
    "    \n",
    "SELECT \n",
    "country1 country, \n",
    "no_of_orders,\n",
    "total_customers no_of_customers,\n",
    "total_sales_amount total_sales,\n",
    "ave_orders,\n",
    "ROUND(ave_sales, 2)\n",
    "FROM\n",
    "    (\n",
    "    SELECT\n",
    "        cr.*,\n",
    "        CASE\n",
    "            WHEN cr.no_of_cust = 1 THEN 'others'\n",
    "            ELSE cr.country\n",
    "    \n",
    "        END AS country1, \n",
    "        COUNT(cr.no_of_cust) AS total_customers\n",
    "    FROM customer_region cr\n",
    "    GROUP BY country1\n",
    "        ORDER BY total_sales_amount DESC,\n",
    "        CASE WHEN country = 'other' THEN 1 ELSE 0 END DESC\n",
    "   )\n",
    "\n"
   ]
  },
  {
   "cell_type": "markdown",
   "metadata": {},
   "source": [
    "USA is the country with the most sales and customers. There are a few countries with only one customer. We have grouped these countries together."
   ]
  },
  {
   "cell_type": "markdown",
   "metadata": {},
   "source": [
    "## Track or Album: Determining Purchase Type\n",
    "The Chinook store is setup in a way that allows customer to make purchases in one of the two ways:\n",
    "\n",
    "- purchase a whole album\n",
    "- purchase a collection of one or more individual tracks.\n",
    "\n",
    "The store does not let customers purchase a whole album, and then add individual tracks to that same purchase (unless they do that by choosing each track manually). When customers purchase albums they are charged the same price as if they had purchased each of those tracks separately.\n",
    "\n",
    "Management are currently considering changing their purchasing strategy to save money. The strategy they are considering is to purchase only the most popular tracks from each album from record companies, instead of purchasing every track from an album.\n",
    "\n",
    "We have been asked to find out what percentage of purchases are individual tracks vs whole albums, so that management can use this data to understand the effect this decision might have on overall revenue."
   ]
  },
  {
   "cell_type": "code",
   "execution_count": 12,
   "metadata": {},
   "outputs": [
    {
     "name": "stdout",
     "output_type": "stream",
     "text": [
      " * sqlite:///chinook.db\n",
      "Done.\n"
     ]
    },
    {
     "data": {
      "text/html": [
       "<table>\n",
       "    <thead>\n",
       "        <tr>\n",
       "            <th>purchase_type</th>\n",
       "            <th>number_of_invoices</th>\n",
       "            <th>percentage</th>\n",
       "        </tr>\n",
       "    </thead>\n",
       "    <tbody>\n",
       "        <tr>\n",
       "            <td>Albums</td>\n",
       "            <td>114</td>\n",
       "            <td>0.19</td>\n",
       "        </tr>\n",
       "        <tr>\n",
       "            <td>Singles</td>\n",
       "            <td>500</td>\n",
       "            <td>0.81</td>\n",
       "        </tr>\n",
       "    </tbody>\n",
       "</table>"
      ],
      "text/plain": [
       "[('Albums', 114, 0.19), ('Singles', 500, 0.81)]"
      ]
     },
     "execution_count": 12,
     "metadata": {},
     "output_type": "execute_result"
    }
   ],
   "source": [
    "     \n",
    "     %%sql\n",
    "\n",
    "WITH invoice_albums AS\n",
    "    (\n",
    "        SELECT\n",
    "        i.invoice_id,\n",
    "        COUNT(t.track_id) purchased_track_count,\n",
    "        COUNT(DISTINCT t.album_id) album_count,\n",
    "        t.album_id album_id\n",
    "        FROM invoice i\n",
    "        INNER JOIN invoice_line il ON il.invoice_id = i.invoice_id\n",
    "        INNER JOIN track t ON t.track_id = il.track_id\n",
    "        GROUP BY 1\n",
    "    ),\n",
    "    album_track_count AS\n",
    "    (\n",
    "        SELECT\n",
    "        t.album_id album_id,\n",
    "        COUNT(t.track_id) album_track_count\n",
    "        FROM track t\n",
    "        GROUP BY 1\n",
    "    )\n",
    "    \n",
    "\n",
    "SELECT  \n",
    "    CASE\n",
    "        WHEN ia.album_count = 1\n",
    "        AND ia.purchased_track_count = atc.album_track_count\n",
    "        THEN \"Albums\"\n",
    "        ELSE \"Singles\"\n",
    "        END AS purchase_type,\n",
    "    COUNT(ia.invoice_id) number_of_invoices,\n",
    "    ROUND(CAST(COUNT(ia.invoice_id) AS FLOAT) / \n",
    "          (\n",
    "              SELECT COUNT(*)\n",
    "              FROM invoice), 2) percentage\n",
    "FROM invoice_albums ia\n",
    "INNER JOIN album_track_count atc ON atc.album_id = ia.album_id\n",
    "GROUP BY purchase_type\n",
    "\n",
    "LIMIT 10;"
   ]
  },
  {
   "cell_type": "markdown",
   "metadata": {},
   "source": [
    "Album purchases account for 19% of purchases. Based on this data, I would recommend against purchasing only select tracks from albums from record companies, since there is potential to lose one fifth of revenue."
   ]
  },
  {
   "cell_type": "markdown",
   "metadata": {},
   "source": [
    "# Protected Media Types VS Non-protected Media Types\n",
    "We also want to look into the protection status of the tracks and how it affects popularity and sales."
   ]
  },
  {
   "cell_type": "code",
   "execution_count": 77,
   "metadata": {},
   "outputs": [
    {
     "name": "stdout",
     "output_type": "stream",
     "text": [
      " * sqlite:///chinook.db\n",
      "Done.\n"
     ]
    },
    {
     "data": {
      "text/html": [
       "<table>\n",
       "    <thead>\n",
       "        <tr>\n",
       "            <th>protection_status</th>\n",
       "            <th>quantity</th>\n",
       "            <th>total</th>\n",
       "        </tr>\n",
       "    </thead>\n",
       "    <tbody>\n",
       "        <tr>\n",
       "            <td>NOT PROTECTED</td>\n",
       "            <td>4315</td>\n",
       "            <td>43362.0</td>\n",
       "        </tr>\n",
       "        <tr>\n",
       "            <td>PROTECTED</td>\n",
       "            <td>442</td>\n",
       "            <td>4141.0</td>\n",
       "        </tr>\n",
       "    </tbody>\n",
       "</table>"
      ],
      "text/plain": [
       "[('NOT PROTECTED', 4315, 43362.0), ('PROTECTED', 442, 4141.0)]"
      ]
     },
     "execution_count": 77,
     "metadata": {},
     "output_type": "execute_result"
    }
   ],
   "source": [
    "%%sql\n",
    "select \n",
    "    protection_status,\n",
    "    COUNT(quantity) quantity,\n",
    "    ROUND(TOTAL(total)) total\n",
    "\n",
    "FROM\n",
    "(SELECT *,\n",
    " CASE\n",
    " WHEN m.name LIKE \"%PROTECTED%\" THEN \"PROTECTED\"\n",
    "    ELSE \"NOT PROTECTED\"\n",
    "    END AS protection_status\n",
    "  FROM\n",
    "    media_type m \n",
    "INNER JOIN track t on t.media_type_id = m.media_type_id\n",
    "INNER JOIN invoice_line il on t.track_id = il.track_id\n",
    "INNER JOIN invoice i on il.invoice_id = i.invoice_id)\n",
    "GROUP by 1;"
   ]
  },
  {
   "cell_type": "markdown",
   "metadata": {},
   "source": [
    "We see that non-protected media types are by far more popular and make more sales that protected media types."
   ]
  }
 ],
 "metadata": {
  "kernelspec": {
   "display_name": "Python 3",
   "language": "python",
   "name": "python3"
  },
  "language_info": {
   "codemirror_mode": {
    "name": "ipython",
    "version": 3
   },
   "file_extension": ".py",
   "mimetype": "text/x-python",
   "name": "python",
   "nbconvert_exporter": "python",
   "pygments_lexer": "ipython3",
   "version": "3.8.5"
  }
 },
 "nbformat": 4,
 "nbformat_minor": 4
}
